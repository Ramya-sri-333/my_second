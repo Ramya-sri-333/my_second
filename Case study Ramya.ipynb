{
 "cells": [
  {
   "cell_type": "code",
   "execution_count": 1,
   "metadata": {},
   "outputs": [],
   "source": [
    "# Supress Warnings\n",
    "\n",
    "import warnings\n",
    "warnings.filterwarnings('ignore')"
   ]
  },
  {
   "cell_type": "code",
   "execution_count": 2,
   "metadata": {},
   "outputs": [],
   "source": [
    "# Import the numpy and pandas packages\n",
    "\n",
    "import numpy as np\n",
    "import pandas as pd"
   ]
  },
  {
   "cell_type": "markdown",
   "metadata": {},
   "source": [
    "# CHECK POINT 1 :\n",
    "### Import and read"
   ]
  },
  {
   "cell_type": "code",
   "execution_count": 3,
   "metadata": {
    "scrolled": false
   },
   "outputs": [
    {
     "data": {
      "text/plain": [
       "(66368, 10)"
      ]
     },
     "execution_count": 3,
     "metadata": {},
     "output_type": "execute_result"
    }
   ],
   "source": [
    "# load companies file into python \n",
    "companies = pd.read_csv(r\"C:/Users/haric/Downloads/companies.txt\", sep=\"\\t\",encoding=\"ANSI\")\n",
    "companies.shape"
   ]
  },
  {
   "cell_type": "code",
   "execution_count": 4,
   "metadata": {},
   "outputs": [
    {
     "data": {
      "text/html": [
       "<div>\n",
       "<style scoped>\n",
       "    .dataframe tbody tr th:only-of-type {\n",
       "        vertical-align: middle;\n",
       "    }\n",
       "\n",
       "    .dataframe tbody tr th {\n",
       "        vertical-align: top;\n",
       "    }\n",
       "\n",
       "    .dataframe thead th {\n",
       "        text-align: right;\n",
       "    }\n",
       "</style>\n",
       "<table border=\"1\" class=\"dataframe\">\n",
       "  <thead>\n",
       "    <tr style=\"text-align: right;\">\n",
       "      <th></th>\n",
       "      <th>permalink</th>\n",
       "      <th>name</th>\n",
       "      <th>homepage_url</th>\n",
       "      <th>category_list</th>\n",
       "      <th>status</th>\n",
       "      <th>country_code</th>\n",
       "      <th>state_code</th>\n",
       "      <th>region</th>\n",
       "      <th>city</th>\n",
       "      <th>founded_at</th>\n",
       "    </tr>\n",
       "  </thead>\n",
       "  <tbody>\n",
       "    <tr>\n",
       "      <th>0</th>\n",
       "      <td>/Organization/-Fame</td>\n",
       "      <td>#fame</td>\n",
       "      <td>http://livfame.com</td>\n",
       "      <td>Media</td>\n",
       "      <td>operating</td>\n",
       "      <td>IND</td>\n",
       "      <td>16</td>\n",
       "      <td>Mumbai</td>\n",
       "      <td>Mumbai</td>\n",
       "      <td>NaN</td>\n",
       "    </tr>\n",
       "    <tr>\n",
       "      <th>1</th>\n",
       "      <td>/Organization/-Qounter</td>\n",
       "      <td>:Qounter</td>\n",
       "      <td>http://www.qounter.com</td>\n",
       "      <td>Application Platforms|Real Time|Social Network...</td>\n",
       "      <td>operating</td>\n",
       "      <td>USA</td>\n",
       "      <td>DE</td>\n",
       "      <td>DE - Other</td>\n",
       "      <td>Delaware City</td>\n",
       "      <td>04-09-2014</td>\n",
       "    </tr>\n",
       "    <tr>\n",
       "      <th>2</th>\n",
       "      <td>/Organization/-The-One-Of-Them-Inc-</td>\n",
       "      <td>(THE) ONE of THEM,Inc.</td>\n",
       "      <td>http://oneofthem.jp</td>\n",
       "      <td>Apps|Games|Mobile</td>\n",
       "      <td>operating</td>\n",
       "      <td>NaN</td>\n",
       "      <td>NaN</td>\n",
       "      <td>NaN</td>\n",
       "      <td>NaN</td>\n",
       "      <td>NaN</td>\n",
       "    </tr>\n",
       "    <tr>\n",
       "      <th>3</th>\n",
       "      <td>/Organization/0-6-Com</td>\n",
       "      <td>0-6.com</td>\n",
       "      <td>http://www.0-6.com</td>\n",
       "      <td>Curated Web</td>\n",
       "      <td>operating</td>\n",
       "      <td>CHN</td>\n",
       "      <td>22</td>\n",
       "      <td>Beijing</td>\n",
       "      <td>Beijing</td>\n",
       "      <td>01-01-2007</td>\n",
       "    </tr>\n",
       "    <tr>\n",
       "      <th>4</th>\n",
       "      <td>/Organization/004-Technologies</td>\n",
       "      <td>004 Technologies</td>\n",
       "      <td>http://004gmbh.de/en/004-interact</td>\n",
       "      <td>Software</td>\n",
       "      <td>operating</td>\n",
       "      <td>USA</td>\n",
       "      <td>IL</td>\n",
       "      <td>Springfield, Illinois</td>\n",
       "      <td>Champaign</td>\n",
       "      <td>01-01-2010</td>\n",
       "    </tr>\n",
       "  </tbody>\n",
       "</table>\n",
       "</div>"
      ],
      "text/plain": [
       "                             permalink                    name  \\\n",
       "0                  /Organization/-Fame                   #fame   \n",
       "1               /Organization/-Qounter                :Qounter   \n",
       "2  /Organization/-The-One-Of-Them-Inc-  (THE) ONE of THEM,Inc.   \n",
       "3                /Organization/0-6-Com                 0-6.com   \n",
       "4       /Organization/004-Technologies        004 Technologies   \n",
       "\n",
       "                        homepage_url  \\\n",
       "0                 http://livfame.com   \n",
       "1             http://www.qounter.com   \n",
       "2                http://oneofthem.jp   \n",
       "3                 http://www.0-6.com   \n",
       "4  http://004gmbh.de/en/004-interact   \n",
       "\n",
       "                                       category_list     status country_code  \\\n",
       "0                                              Media  operating          IND   \n",
       "1  Application Platforms|Real Time|Social Network...  operating          USA   \n",
       "2                                  Apps|Games|Mobile  operating          NaN   \n",
       "3                                        Curated Web  operating          CHN   \n",
       "4                                           Software  operating          USA   \n",
       "\n",
       "  state_code                 region           city  founded_at  \n",
       "0         16                 Mumbai         Mumbai         NaN  \n",
       "1         DE             DE - Other  Delaware City  04-09-2014  \n",
       "2        NaN                    NaN            NaN         NaN  \n",
       "3         22                Beijing        Beijing  01-01-2007  \n",
       "4         IL  Springfield, Illinois      Champaign  01-01-2010  "
      ]
     },
     "execution_count": 4,
     "metadata": {},
     "output_type": "execute_result"
    }
   ],
   "source": [
    "#removing special characters from the column permalink and name in companies file \n",
    "companies['permalink']= companies.permalink.str.encode('utf-8').str.decode('ascii','ignore')\n",
    "companies['name'] = companies.name.str.encode('utf-8').str.decode('ascii','ignore')\n",
    "companies.head()"
   ]
  },
  {
   "cell_type": "code",
   "execution_count": 5,
   "metadata": {},
   "outputs": [
    {
     "data": {
      "text/plain": [
       "(114949, 6)"
      ]
     },
     "execution_count": 5,
     "metadata": {},
     "output_type": "execute_result"
    }
   ],
   "source": [
    "#importing data from csv into data frame round2\n",
    "round2 = pd.read_csv(r\"C:/Users/haric/Downloads/rounds2.csv\", sep =\",\",encoding =\"ANSI\")\n",
    "round2.shape"
   ]
  },
  {
   "cell_type": "code",
   "execution_count": 6,
   "metadata": {
    "scrolled": false
   },
   "outputs": [
    {
     "data": {
      "text/html": [
       "<div>\n",
       "<style scoped>\n",
       "    .dataframe tbody tr th:only-of-type {\n",
       "        vertical-align: middle;\n",
       "    }\n",
       "\n",
       "    .dataframe tbody tr th {\n",
       "        vertical-align: top;\n",
       "    }\n",
       "\n",
       "    .dataframe thead th {\n",
       "        text-align: right;\n",
       "    }\n",
       "</style>\n",
       "<table border=\"1\" class=\"dataframe\">\n",
       "  <thead>\n",
       "    <tr style=\"text-align: right;\">\n",
       "      <th></th>\n",
       "      <th>company_permalink</th>\n",
       "      <th>funding_round_permalink</th>\n",
       "      <th>funding_round_type</th>\n",
       "      <th>funding_round_code</th>\n",
       "      <th>funded_at</th>\n",
       "      <th>raised_amount_usd</th>\n",
       "    </tr>\n",
       "  </thead>\n",
       "  <tbody>\n",
       "    <tr>\n",
       "      <th>0</th>\n",
       "      <td>/organization/-fame</td>\n",
       "      <td>/funding-round/9a01d05418af9f794eebff7ace91f638</td>\n",
       "      <td>venture</td>\n",
       "      <td>B</td>\n",
       "      <td>05-01-2015</td>\n",
       "      <td>10000000.0</td>\n",
       "    </tr>\n",
       "    <tr>\n",
       "      <th>1</th>\n",
       "      <td>/ORGANIZATION/-QOUNTER</td>\n",
       "      <td>/funding-round/22dacff496eb7acb2b901dec1dfe5633</td>\n",
       "      <td>venture</td>\n",
       "      <td>A</td>\n",
       "      <td>14-10-2014</td>\n",
       "      <td>NaN</td>\n",
       "    </tr>\n",
       "    <tr>\n",
       "      <th>2</th>\n",
       "      <td>/organization/-qounter</td>\n",
       "      <td>/funding-round/b44fbb94153f6cdef13083530bb48030</td>\n",
       "      <td>seed</td>\n",
       "      <td>NaN</td>\n",
       "      <td>01-03-2014</td>\n",
       "      <td>700000.0</td>\n",
       "    </tr>\n",
       "    <tr>\n",
       "      <th>3</th>\n",
       "      <td>/ORGANIZATION/-THE-ONE-OF-THEM-INC-</td>\n",
       "      <td>/funding-round/650b8f704416801069bb178a1418776b</td>\n",
       "      <td>venture</td>\n",
       "      <td>B</td>\n",
       "      <td>30-01-2014</td>\n",
       "      <td>3406878.0</td>\n",
       "    </tr>\n",
       "    <tr>\n",
       "      <th>4</th>\n",
       "      <td>/organization/0-6-com</td>\n",
       "      <td>/funding-round/5727accaeaa57461bd22a9bdd945382d</td>\n",
       "      <td>venture</td>\n",
       "      <td>A</td>\n",
       "      <td>19-03-2008</td>\n",
       "      <td>2000000.0</td>\n",
       "    </tr>\n",
       "  </tbody>\n",
       "</table>\n",
       "</div>"
      ],
      "text/plain": [
       "                     company_permalink  \\\n",
       "0                  /organization/-fame   \n",
       "1               /ORGANIZATION/-QOUNTER   \n",
       "2               /organization/-qounter   \n",
       "3  /ORGANIZATION/-THE-ONE-OF-THEM-INC-   \n",
       "4                /organization/0-6-com   \n",
       "\n",
       "                           funding_round_permalink funding_round_type  \\\n",
       "0  /funding-round/9a01d05418af9f794eebff7ace91f638            venture   \n",
       "1  /funding-round/22dacff496eb7acb2b901dec1dfe5633            venture   \n",
       "2  /funding-round/b44fbb94153f6cdef13083530bb48030               seed   \n",
       "3  /funding-round/650b8f704416801069bb178a1418776b            venture   \n",
       "4  /funding-round/5727accaeaa57461bd22a9bdd945382d            venture   \n",
       "\n",
       "  funding_round_code   funded_at  raised_amount_usd  \n",
       "0                  B  05-01-2015         10000000.0  \n",
       "1                  A  14-10-2014                NaN  \n",
       "2                NaN  01-03-2014           700000.0  \n",
       "3                  B  30-01-2014          3406878.0  \n",
       "4                  A  19-03-2008          2000000.0  "
      ]
     },
     "execution_count": 6,
     "metadata": {},
     "output_type": "execute_result"
    }
   ],
   "source": [
    "#removing special characters in company permalink column\n",
    "round2['company_permalink'] = round2.company_permalink.str.encode('utf-8').str.decode('ascii','ignore')\n",
    "round2.head()"
   ]
  },
  {
   "cell_type": "markdown",
   "metadata": {},
   "source": [
    "Data cleaning: droping columns and rows \n",
    "How many unique companies are present in rounds2?"
   ]
  },
  {
   "cell_type": "code",
   "execution_count": 7,
   "metadata": {},
   "outputs": [],
   "source": [
    "companies = companies.drop(['state_code','region','city','founded_at'],axis =1)"
   ]
  },
  {
   "cell_type": "code",
   "execution_count": 8,
   "metadata": {
    "scrolled": true
   },
   "outputs": [],
   "source": [
    "companies['permalink']=companies['permalink'].str.upper()"
   ]
  },
  {
   "cell_type": "code",
   "execution_count": 9,
   "metadata": {},
   "outputs": [],
   "source": [
    "companies = companies.drop_duplicates()"
   ]
  },
  {
   "cell_type": "code",
   "execution_count": 10,
   "metadata": {},
   "outputs": [
    {
     "data": {
      "text/plain": [
       "66368"
      ]
     },
     "execution_count": 10,
     "metadata": {},
     "output_type": "execute_result"
    }
   ],
   "source": [
    "len(companies['permalink'].unique().tolist())"
   ]
  },
  {
   "cell_type": "markdown",
   "metadata": {},
   "source": [
    "How many unique companies are present in the companies file?"
   ]
  },
  {
   "cell_type": "code",
   "execution_count": 11,
   "metadata": {},
   "outputs": [],
   "source": [
    "round2= round2.drop(['funding_round_code','funded_at'],axis=1)"
   ]
  },
  {
   "cell_type": "code",
   "execution_count": 12,
   "metadata": {},
   "outputs": [],
   "source": [
    "round2 = round2.drop_duplicates()"
   ]
  },
  {
   "cell_type": "code",
   "execution_count": 13,
   "metadata": {},
   "outputs": [],
   "source": [
    "round2['company_permalink']= round2['company_permalink'].str.upper()"
   ]
  },
  {
   "cell_type": "code",
   "execution_count": 14,
   "metadata": {
    "scrolled": true
   },
   "outputs": [
    {
     "data": {
      "text/plain": [
       "66368"
      ]
     },
     "execution_count": 14,
     "metadata": {},
     "output_type": "execute_result"
    }
   ],
   "source": [
    "len(round2['company_permalink'].unique().tolist())"
   ]
  },
  {
   "cell_type": "code",
   "execution_count": 15,
   "metadata": {},
   "outputs": [
    {
     "data": {
      "text/plain": [
       "(114949, 4)"
      ]
     },
     "execution_count": 15,
     "metadata": {},
     "output_type": "execute_result"
    }
   ],
   "source": [
    "round2.shape"
   ]
  },
  {
   "cell_type": "code",
   "execution_count": 16,
   "metadata": {},
   "outputs": [
    {
     "name": "stdout",
     "output_type": "stream",
     "text": [
      "<class 'pandas.core.frame.DataFrame'>\n",
      "Int64Index: 114949 entries, 0 to 114948\n",
      "Data columns (total 4 columns):\n",
      "company_permalink          114949 non-null object\n",
      "funding_round_permalink    114949 non-null object\n",
      "funding_round_type         114949 non-null object\n",
      "raised_amount_usd          94959 non-null float64\n",
      "dtypes: float64(1), object(3)\n",
      "memory usage: 4.4+ MB\n"
     ]
    }
   ],
   "source": [
    "round2.info()"
   ]
  },
  {
   "cell_type": "code",
   "execution_count": 17,
   "metadata": {},
   "outputs": [
    {
     "data": {
      "text/plain": [
       "66368"
      ]
     },
     "execution_count": 17,
     "metadata": {},
     "output_type": "execute_result"
    }
   ],
   "source": [
    "result =companies.isin(round2)\n",
    "len(result)"
   ]
  },
  {
   "cell_type": "code",
   "execution_count": 18,
   "metadata": {},
   "outputs": [
    {
     "name": "stdout",
     "output_type": "stream",
     "text": [
      "<class 'pandas.core.frame.DataFrame'>\n",
      "Int64Index: 66368 entries, 0 to 66367\n",
      "Data columns (total 6 columns):\n",
      "permalink        66368 non-null object\n",
      "name             66367 non-null object\n",
      "homepage_url     61310 non-null object\n",
      "category_list    63220 non-null object\n",
      "status           66368 non-null object\n",
      "country_code     59410 non-null object\n",
      "dtypes: object(6)\n",
      "memory usage: 3.5+ MB\n"
     ]
    }
   ],
   "source": [
    "companies.info()"
   ]
  },
  {
   "cell_type": "code",
   "execution_count": 19,
   "metadata": {},
   "outputs": [
    {
     "data": {
      "text/html": [
       "<div>\n",
       "<style scoped>\n",
       "    .dataframe tbody tr th:only-of-type {\n",
       "        vertical-align: middle;\n",
       "    }\n",
       "\n",
       "    .dataframe tbody tr th {\n",
       "        vertical-align: top;\n",
       "    }\n",
       "\n",
       "    .dataframe thead th {\n",
       "        text-align: right;\n",
       "    }\n",
       "</style>\n",
       "<table border=\"1\" class=\"dataframe\">\n",
       "  <thead>\n",
       "    <tr style=\"text-align: right;\">\n",
       "      <th></th>\n",
       "      <th>permalink</th>\n",
       "      <th>name</th>\n",
       "      <th>homepage_url</th>\n",
       "      <th>category_list</th>\n",
       "      <th>status</th>\n",
       "      <th>country_code</th>\n",
       "    </tr>\n",
       "  </thead>\n",
       "  <tbody>\n",
       "    <tr>\n",
       "      <th>count</th>\n",
       "      <td>66368</td>\n",
       "      <td>66367</td>\n",
       "      <td>61310</td>\n",
       "      <td>63220</td>\n",
       "      <td>66368</td>\n",
       "      <td>59410</td>\n",
       "    </tr>\n",
       "    <tr>\n",
       "      <th>unique</th>\n",
       "      <td>66368</td>\n",
       "      <td>66102</td>\n",
       "      <td>61191</td>\n",
       "      <td>27296</td>\n",
       "      <td>4</td>\n",
       "      <td>137</td>\n",
       "    </tr>\n",
       "    <tr>\n",
       "      <th>top</th>\n",
       "      <td>/ORGANIZATION/BLACK-RAVEN-AND-STAG</td>\n",
       "      <td>Blink</td>\n",
       "      <td>http://www.askforoffer.com</td>\n",
       "      <td>Software</td>\n",
       "      <td>operating</td>\n",
       "      <td>USA</td>\n",
       "    </tr>\n",
       "    <tr>\n",
       "      <th>freq</th>\n",
       "      <td>1</td>\n",
       "      <td>4</td>\n",
       "      <td>5</td>\n",
       "      <td>3995</td>\n",
       "      <td>53034</td>\n",
       "      <td>37601</td>\n",
       "    </tr>\n",
       "  </tbody>\n",
       "</table>\n",
       "</div>"
      ],
      "text/plain": [
       "                                 permalink   name                homepage_url  \\\n",
       "count                                66368  66367                       61310   \n",
       "unique                               66368  66102                       61191   \n",
       "top     /ORGANIZATION/BLACK-RAVEN-AND-STAG  Blink  http://www.askforoffer.com   \n",
       "freq                                     1      4                           5   \n",
       "\n",
       "       category_list     status country_code  \n",
       "count          63220      66368        59410  \n",
       "unique         27296          4          137  \n",
       "top         Software  operating          USA  \n",
       "freq            3995      53034        37601  "
      ]
     },
     "execution_count": 19,
     "metadata": {},
     "output_type": "execute_result"
    }
   ],
   "source": [
    "companies.describe()"
   ]
  },
  {
   "attachments": {},
   "cell_type": "markdown",
   "metadata": {},
   "source": [
    "Merge the two data frames so that all  variables (columns)  in the companies frame are added to the rounds2 data frame. Name the merged frame master_frame. How many observations are present in master_frame ?"
   ]
  },
  {
   "cell_type": "code",
   "execution_count": 20,
   "metadata": {},
   "outputs": [
    {
     "data": {
      "text/plain": [
       "(114949, 10)"
      ]
     },
     "execution_count": 20,
     "metadata": {},
     "output_type": "execute_result"
    }
   ],
   "source": [
    "master_frame = pd.merge(round2,companies,right_on='permalink',left_on='company_permalink',how='left')\n",
    "master_frame.shape"
   ]
  },
  {
   "cell_type": "code",
   "execution_count": 21,
   "metadata": {
    "scrolled": false
   },
   "outputs": [
    {
     "name": "stdout",
     "output_type": "stream",
     "text": [
      "<class 'pandas.core.frame.DataFrame'>\n",
      "Int64Index: 114949 entries, 0 to 114948\n",
      "Data columns (total 10 columns):\n",
      "company_permalink          114949 non-null object\n",
      "funding_round_permalink    114949 non-null object\n",
      "funding_round_type         114949 non-null object\n",
      "raised_amount_usd          94959 non-null float64\n",
      "permalink                  114949 non-null object\n",
      "name                       114948 non-null object\n",
      "homepage_url               108815 non-null object\n",
      "category_list              111539 non-null object\n",
      "status                     114949 non-null object\n",
      "country_code               106271 non-null object\n",
      "dtypes: float64(1), object(9)\n",
      "memory usage: 9.6+ MB\n"
     ]
    }
   ],
   "source": [
    "master_frame.info()"
   ]
  },
  {
   "cell_type": "markdown",
   "metadata": {},
   "source": [
    "# Checkpoint 2\n",
    "## Funding type Analysis"
   ]
  },
  {
   "cell_type": "code",
   "execution_count": 22,
   "metadata": {},
   "outputs": [
    {
     "data": {
      "text/plain": [
       "company_permalink           0.00\n",
       "funding_round_permalink     0.00\n",
       "funding_round_type          0.00\n",
       "raised_amount_usd          17.39\n",
       "permalink                   0.00\n",
       "name                        0.00\n",
       "homepage_url                5.34\n",
       "category_list               2.97\n",
       "status                      0.00\n",
       "country_code                7.55\n",
       "dtype: float64"
      ]
     },
     "execution_count": 22,
     "metadata": {},
     "output_type": "execute_result"
    }
   ],
   "source": [
    "# Get the column-wise Null count using 'is.null()' alongwith the 'sum()' function\n",
    "round(100*(master_frame.isnull().sum()/len(master_frame.index)),2)"
   ]
  },
  {
   "cell_type": "code",
   "execution_count": 23,
   "metadata": {},
   "outputs": [],
   "source": [
    "#drop all the rows with NaNs at this column using the\n",
    "# 'isnan' function of NumPy alongwith a negation '~'\n",
    "master_frame = master_frame[~np.isnan(master_frame['raised_amount_usd'])]"
   ]
  },
  {
   "cell_type": "code",
   "execution_count": 24,
   "metadata": {
    "scrolled": true
   },
   "outputs": [
    {
     "data": {
      "text/plain": [
       "company_permalink          0.00\n",
       "funding_round_permalink    0.00\n",
       "funding_round_type         0.00\n",
       "raised_amount_usd          0.00\n",
       "permalink                  0.00\n",
       "name                       0.00\n",
       "homepage_url               4.56\n",
       "category_list              1.10\n",
       "status                     0.00\n",
       "country_code               6.16\n",
       "dtype: float64"
      ]
     },
     "execution_count": 24,
     "metadata": {},
     "output_type": "execute_result"
    }
   ],
   "source": [
    "# Get the percentages by dividing the sum obtained previously by the total length, multiplying it by 100 and rounding it off to\n",
    "# two decimal places\n",
    "round(100*(master_frame.isnull().sum()/len(master_frame.index)),2)"
   ]
  },
  {
   "cell_type": "code",
   "execution_count": 25,
   "metadata": {},
   "outputs": [
    {
     "data": {
      "text/plain": [
       "(94959, 10)"
      ]
     },
     "execution_count": 25,
     "metadata": {},
     "output_type": "execute_result"
    }
   ],
   "source": [
    "# Inspect the dataset.\n",
    "master_frame.shape"
   ]
  },
  {
   "cell_type": "code",
   "execution_count": 26,
   "metadata": {},
   "outputs": [],
   "source": [
    "#finding the avg funding type \n",
    "avg_funding_type=master_frame.pivot_table(values =['raised_amount_usd'],index = 'funding_round_type',aggfunc = 'mean').sort_values(by = ['raised_amount_usd'],ascending = False)"
   ]
  },
  {
   "cell_type": "code",
   "execution_count": 27,
   "metadata": {},
   "outputs": [
    {
     "data": {
      "text/html": [
       "<div>\n",
       "<style scoped>\n",
       "    .dataframe tbody tr th:only-of-type {\n",
       "        vertical-align: middle;\n",
       "    }\n",
       "\n",
       "    .dataframe tbody tr th {\n",
       "        vertical-align: top;\n",
       "    }\n",
       "\n",
       "    .dataframe thead th {\n",
       "        text-align: right;\n",
       "    }\n",
       "</style>\n",
       "<table border=\"1\" class=\"dataframe\">\n",
       "  <thead>\n",
       "    <tr style=\"text-align: right;\">\n",
       "      <th></th>\n",
       "      <th>raised_amount_usd</th>\n",
       "    </tr>\n",
       "    <tr>\n",
       "      <th>funding_round_type</th>\n",
       "      <th></th>\n",
       "    </tr>\n",
       "  </thead>\n",
       "  <tbody>\n",
       "    <tr>\n",
       "      <th>post_ipo_debt</th>\n",
       "      <td>168.70</td>\n",
       "    </tr>\n",
       "    <tr>\n",
       "      <th>post_ipo_equity</th>\n",
       "      <td>82.18</td>\n",
       "    </tr>\n",
       "    <tr>\n",
       "      <th>secondary_market</th>\n",
       "      <td>79.65</td>\n",
       "    </tr>\n",
       "    <tr>\n",
       "      <th>private_equity</th>\n",
       "      <td>73.31</td>\n",
       "    </tr>\n",
       "    <tr>\n",
       "      <th>undisclosed</th>\n",
       "      <td>19.24</td>\n",
       "    </tr>\n",
       "    <tr>\n",
       "      <th>debt_financing</th>\n",
       "      <td>17.04</td>\n",
       "    </tr>\n",
       "    <tr>\n",
       "      <th>venture</th>\n",
       "      <td>11.75</td>\n",
       "    </tr>\n",
       "    <tr>\n",
       "      <th>grant</th>\n",
       "      <td>4.30</td>\n",
       "    </tr>\n",
       "    <tr>\n",
       "      <th>convertible_note</th>\n",
       "      <td>1.45</td>\n",
       "    </tr>\n",
       "    <tr>\n",
       "      <th>product_crowdfunding</th>\n",
       "      <td>1.36</td>\n",
       "    </tr>\n",
       "    <tr>\n",
       "      <th>angel</th>\n",
       "      <td>0.96</td>\n",
       "    </tr>\n",
       "    <tr>\n",
       "      <th>seed</th>\n",
       "      <td>0.72</td>\n",
       "    </tr>\n",
       "    <tr>\n",
       "      <th>equity_crowdfunding</th>\n",
       "      <td>0.54</td>\n",
       "    </tr>\n",
       "    <tr>\n",
       "      <th>non_equity_assistance</th>\n",
       "      <td>0.41</td>\n",
       "    </tr>\n",
       "  </tbody>\n",
       "</table>\n",
       "</div>"
      ],
      "text/plain": [
       "                       raised_amount_usd\n",
       "funding_round_type                      \n",
       "post_ipo_debt                     168.70\n",
       "post_ipo_equity                    82.18\n",
       "secondary_market                   79.65\n",
       "private_equity                     73.31\n",
       "undisclosed                        19.24\n",
       "debt_financing                     17.04\n",
       "venture                            11.75\n",
       "grant                               4.30\n",
       "convertible_note                    1.45\n",
       "product_crowdfunding                1.36\n",
       "angel                               0.96\n",
       "seed                                0.72\n",
       "equity_crowdfunding                 0.54\n",
       "non_equity_assistance               0.41"
      ]
     },
     "execution_count": 27,
     "metadata": {},
     "output_type": "execute_result"
    }
   ],
   "source": [
    "#converting raised amount usd to million $ and rounding off to 2 decimal places\n",
    "avg_funding_type['raised_amount_usd'] =avg_funding_type['raised_amount_usd'].apply(lambda x: x/1000000)\n",
    "\n",
    "avg_funding_type['raised_amount_usd']= avg_funding_type['raised_amount_usd'].apply(lambda x: round(x,2))\n",
    "avg_funding_type.sort_values(by = 'raised_amount_usd', ascending = False)"
   ]
  },
  {
   "cell_type": "code",
   "execution_count": 28,
   "metadata": {},
   "outputs": [
    {
     "data": {
      "text/html": [
       "<div>\n",
       "<style scoped>\n",
       "    .dataframe tbody tr th:only-of-type {\n",
       "        vertical-align: middle;\n",
       "    }\n",
       "\n",
       "    .dataframe tbody tr th {\n",
       "        vertical-align: top;\n",
       "    }\n",
       "\n",
       "    .dataframe thead th {\n",
       "        text-align: right;\n",
       "    }\n",
       "</style>\n",
       "<table border=\"1\" class=\"dataframe\">\n",
       "  <thead>\n",
       "    <tr style=\"text-align: right;\">\n",
       "      <th></th>\n",
       "      <th>raised_amount_usd</th>\n",
       "    </tr>\n",
       "    <tr>\n",
       "      <th>funding_round_type</th>\n",
       "      <th></th>\n",
       "    </tr>\n",
       "  </thead>\n",
       "  <tbody>\n",
       "    <tr>\n",
       "      <th>private_equity</th>\n",
       "      <td>73.31</td>\n",
       "    </tr>\n",
       "    <tr>\n",
       "      <th>venture</th>\n",
       "      <td>11.75</td>\n",
       "    </tr>\n",
       "    <tr>\n",
       "      <th>angel</th>\n",
       "      <td>0.96</td>\n",
       "    </tr>\n",
       "    <tr>\n",
       "      <th>seed</th>\n",
       "      <td>0.72</td>\n",
       "    </tr>\n",
       "  </tbody>\n",
       "</table>\n",
       "</div>"
      ],
      "text/plain": [
       "                    raised_amount_usd\n",
       "funding_round_type                   \n",
       "private_equity                  73.31\n",
       "venture                         11.75\n",
       "angel                            0.96\n",
       "seed                             0.72"
      ]
     },
     "execution_count": 28,
     "metadata": {},
     "output_type": "execute_result"
    }
   ],
   "source": [
    "#finding only the top four avg funding round and showing it as a pivot table\n",
    "avg_funding_type = avg_funding_type.loc[['venture','angel','seed','private_equity']]\n",
    "avg_funding_type.sort_values(by = 'raised_amount_usd', ascending = False)"
   ]
  },
  {
   "cell_type": "markdown",
   "metadata": {},
   "source": [
    "# Checkpoint 3\n",
    "### Country Analysis"
   ]
  },
  {
   "cell_type": "code",
   "execution_count": 29,
   "metadata": {},
   "outputs": [
    {
     "data": {
      "text/plain": [
       "(50228, 10)"
      ]
     },
     "execution_count": 29,
     "metadata": {},
     "output_type": "execute_result"
    }
   ],
   "source": [
    "#create a data frame where funding type is ventura\n",
    "top9_sec = master_frame.loc[master_frame.funding_round_type == 'venture']\n",
    "\n",
    "top9_sec.sort_values(by='raised_amount_usd',ascending = False,inplace = True)\n",
    "top9_sec.shape\n"
   ]
  },
  {
   "cell_type": "code",
   "execution_count": 30,
   "metadata": {},
   "outputs": [
    {
     "data": {
      "text/html": [
       "<div>\n",
       "<style scoped>\n",
       "    .dataframe tbody tr th:only-of-type {\n",
       "        vertical-align: middle;\n",
       "    }\n",
       "\n",
       "    .dataframe tbody tr th {\n",
       "        vertical-align: top;\n",
       "    }\n",
       "\n",
       "    .dataframe thead th {\n",
       "        text-align: right;\n",
       "    }\n",
       "</style>\n",
       "<table border=\"1\" class=\"dataframe\">\n",
       "  <thead>\n",
       "    <tr style=\"text-align: right;\">\n",
       "      <th></th>\n",
       "      <th>raised_amount_usd</th>\n",
       "    </tr>\n",
       "    <tr>\n",
       "      <th>country_code</th>\n",
       "      <th></th>\n",
       "    </tr>\n",
       "  </thead>\n",
       "  <tbody>\n",
       "    <tr>\n",
       "      <th>USA</th>\n",
       "      <td>422510.84</td>\n",
       "    </tr>\n",
       "    <tr>\n",
       "      <th>CHN</th>\n",
       "      <td>39835.42</td>\n",
       "    </tr>\n",
       "    <tr>\n",
       "      <th>GBR</th>\n",
       "      <td>20245.63</td>\n",
       "    </tr>\n",
       "    <tr>\n",
       "      <th>IND</th>\n",
       "      <td>14391.86</td>\n",
       "    </tr>\n",
       "    <tr>\n",
       "      <th>CAN</th>\n",
       "      <td>9583.33</td>\n",
       "    </tr>\n",
       "    <tr>\n",
       "      <th>FRA</th>\n",
       "      <td>7259.54</td>\n",
       "    </tr>\n",
       "    <tr>\n",
       "      <th>ISR</th>\n",
       "      <td>6907.51</td>\n",
       "    </tr>\n",
       "    <tr>\n",
       "      <th>DEU</th>\n",
       "      <td>6346.96</td>\n",
       "    </tr>\n",
       "    <tr>\n",
       "      <th>JPN</th>\n",
       "      <td>3363.68</td>\n",
       "    </tr>\n",
       "  </tbody>\n",
       "</table>\n",
       "</div>"
      ],
      "text/plain": [
       "              raised_amount_usd\n",
       "country_code                   \n",
       "USA                   422510.84\n",
       "CHN                    39835.42\n",
       "GBR                    20245.63\n",
       "IND                    14391.86\n",
       "CAN                     9583.33\n",
       "FRA                     7259.54\n",
       "ISR                     6907.51\n",
       "DEU                     6346.96\n",
       "JPN                     3363.68"
      ]
     },
     "execution_count": 30,
     "metadata": {},
     "output_type": "execute_result"
    }
   ],
   "source": [
    "#calculate top 9 countries to invest and consider only english speaking countries \n",
    "top9 = top9_sec.groupby(['country_code']).sum().sort_values('raised_amount_usd',ascending = False)[:9]\n",
    "top9['raised_amount_usd'] = top9['raised_amount_usd'].apply(lambda x: x/1000000)\n",
    "top9['raised_amount_usd'] = top9['raised_amount_usd'].apply(lambda x: round(x,2))\n",
    "top9"
   ]
  },
  {
   "cell_type": "markdown",
   "metadata": {},
   "source": [
    "# Checkpoint 4\n",
    "### Sector Analysis 1"
   ]
  },
  {
   "cell_type": "code",
   "execution_count": 31,
   "metadata": {},
   "outputs": [
    {
     "data": {
      "text/plain": [
       "(688, 10)"
      ]
     },
     "execution_count": 31,
     "metadata": {},
     "output_type": "execute_result"
    }
   ],
   "source": [
    "#importing data from mapping file \n",
    "mapping = pd.read_csv(r\"C:/Users/haric/Downloads/mapping.csv\",sep = ',',encoding ='ANSI')\n",
    "\n",
    "mapping.shape"
   ]
  },
  {
   "cell_type": "code",
   "execution_count": 32,
   "metadata": {},
   "outputs": [
    {
     "name": "stdout",
     "output_type": "stream",
     "text": [
      "<class 'pandas.core.frame.DataFrame'>\n",
      "Int64Index: 687 entries, 1 to 687\n",
      "Data columns (total 10 columns):\n",
      "category_list                              687 non-null object\n",
      "Automotive & Sports                        687 non-null int64\n",
      "Blanks                                     687 non-null int64\n",
      "Cleantech / Semiconductors                 687 non-null int64\n",
      "Entertainment                              687 non-null int64\n",
      "Health                                     687 non-null int64\n",
      "Manufacturing                              687 non-null int64\n",
      "News, Search and Messaging                 687 non-null int64\n",
      "Others                                     687 non-null int64\n",
      "Social, Finance, Analytics, Advertising    687 non-null int64\n",
      "dtypes: int64(9), object(1)\n",
      "memory usage: 59.0+ KB\n"
     ]
    }
   ],
   "source": [
    "#removing null values from category list in mapping file\n",
    "mapping = mapping[mapping.category_list.notnull()]\n",
    "#replacing the errors on names in category list \n",
    "mapping['category_list'] = mapping['category_list'].apply(lambda x: x.replace('0','na') if ('2.0' not in x) else x)\n",
    "\n",
    "#changing to lower case \n",
    "mapping['category_list'] = mapping['category_list'].str.lower()\n",
    "mapping.info()\n"
   ]
  },
  {
   "cell_type": "code",
   "execution_count": 33,
   "metadata": {},
   "outputs": [
    {
     "data": {
      "text/html": [
       "<div>\n",
       "<style scoped>\n",
       "    .dataframe tbody tr th:only-of-type {\n",
       "        vertical-align: middle;\n",
       "    }\n",
       "\n",
       "    .dataframe tbody tr th {\n",
       "        vertical-align: top;\n",
       "    }\n",
       "\n",
       "    .dataframe thead th {\n",
       "        text-align: right;\n",
       "    }\n",
       "</style>\n",
       "<table border=\"1\" class=\"dataframe\">\n",
       "  <thead>\n",
       "    <tr style=\"text-align: right;\">\n",
       "      <th></th>\n",
       "      <th>company_permalink</th>\n",
       "      <th>funding_round_permalink</th>\n",
       "      <th>funding_round_type</th>\n",
       "      <th>raised_amount_usd</th>\n",
       "      <th>permalink</th>\n",
       "      <th>name</th>\n",
       "      <th>homepage_url</th>\n",
       "      <th>category_list</th>\n",
       "      <th>status</th>\n",
       "      <th>country_code</th>\n",
       "      <th>primary_sector</th>\n",
       "    </tr>\n",
       "  </thead>\n",
       "  <tbody>\n",
       "    <tr>\n",
       "      <th>0</th>\n",
       "      <td>/ORGANIZATION/-FAME</td>\n",
       "      <td>/funding-round/9a01d05418af9f794eebff7ace91f638</td>\n",
       "      <td>venture</td>\n",
       "      <td>10000000.0</td>\n",
       "      <td>/ORGANIZATION/-FAME</td>\n",
       "      <td>#fame</td>\n",
       "      <td>http://livfame.com</td>\n",
       "      <td>Media</td>\n",
       "      <td>operating</td>\n",
       "      <td>IND</td>\n",
       "      <td>Media</td>\n",
       "    </tr>\n",
       "    <tr>\n",
       "      <th>2</th>\n",
       "      <td>/ORGANIZATION/-QOUNTER</td>\n",
       "      <td>/funding-round/b44fbb94153f6cdef13083530bb48030</td>\n",
       "      <td>seed</td>\n",
       "      <td>700000.0</td>\n",
       "      <td>/ORGANIZATION/-QOUNTER</td>\n",
       "      <td>:Qounter</td>\n",
       "      <td>http://www.qounter.com</td>\n",
       "      <td>Application Platforms|Real Time|Social Network...</td>\n",
       "      <td>operating</td>\n",
       "      <td>USA</td>\n",
       "      <td>Application Platforms</td>\n",
       "    </tr>\n",
       "    <tr>\n",
       "      <th>3</th>\n",
       "      <td>/ORGANIZATION/-THE-ONE-OF-THEM-INC-</td>\n",
       "      <td>/funding-round/650b8f704416801069bb178a1418776b</td>\n",
       "      <td>venture</td>\n",
       "      <td>3406878.0</td>\n",
       "      <td>/ORGANIZATION/-THE-ONE-OF-THEM-INC-</td>\n",
       "      <td>(THE) ONE of THEM,Inc.</td>\n",
       "      <td>http://oneofthem.jp</td>\n",
       "      <td>Apps|Games|Mobile</td>\n",
       "      <td>operating</td>\n",
       "      <td>NaN</td>\n",
       "      <td>Apps</td>\n",
       "    </tr>\n",
       "    <tr>\n",
       "      <th>4</th>\n",
       "      <td>/ORGANIZATION/0-6-COM</td>\n",
       "      <td>/funding-round/5727accaeaa57461bd22a9bdd945382d</td>\n",
       "      <td>venture</td>\n",
       "      <td>2000000.0</td>\n",
       "      <td>/ORGANIZATION/0-6-COM</td>\n",
       "      <td>0-6.com</td>\n",
       "      <td>http://www.0-6.com</td>\n",
       "      <td>Curated Web</td>\n",
       "      <td>operating</td>\n",
       "      <td>CHN</td>\n",
       "      <td>Curated Web</td>\n",
       "    </tr>\n",
       "    <tr>\n",
       "      <th>6</th>\n",
       "      <td>/ORGANIZATION/01GAMES-TECHNOLOGY</td>\n",
       "      <td>/funding-round/7d53696f2b4f607a2f2a8cbb83d01839</td>\n",
       "      <td>undisclosed</td>\n",
       "      <td>41250.0</td>\n",
       "      <td>/ORGANIZATION/01GAMES-TECHNOLOGY</td>\n",
       "      <td>01Games Technology</td>\n",
       "      <td>http://www.01games.hk/</td>\n",
       "      <td>Games</td>\n",
       "      <td>operating</td>\n",
       "      <td>HKG</td>\n",
       "      <td>Games</td>\n",
       "    </tr>\n",
       "  </tbody>\n",
       "</table>\n",
       "</div>"
      ],
      "text/plain": [
       "                     company_permalink  \\\n",
       "0                  /ORGANIZATION/-FAME   \n",
       "2               /ORGANIZATION/-QOUNTER   \n",
       "3  /ORGANIZATION/-THE-ONE-OF-THEM-INC-   \n",
       "4                /ORGANIZATION/0-6-COM   \n",
       "6     /ORGANIZATION/01GAMES-TECHNOLOGY   \n",
       "\n",
       "                           funding_round_permalink funding_round_type  \\\n",
       "0  /funding-round/9a01d05418af9f794eebff7ace91f638            venture   \n",
       "2  /funding-round/b44fbb94153f6cdef13083530bb48030               seed   \n",
       "3  /funding-round/650b8f704416801069bb178a1418776b            venture   \n",
       "4  /funding-round/5727accaeaa57461bd22a9bdd945382d            venture   \n",
       "6  /funding-round/7d53696f2b4f607a2f2a8cbb83d01839        undisclosed   \n",
       "\n",
       "   raised_amount_usd                            permalink  \\\n",
       "0         10000000.0                  /ORGANIZATION/-FAME   \n",
       "2           700000.0               /ORGANIZATION/-QOUNTER   \n",
       "3          3406878.0  /ORGANIZATION/-THE-ONE-OF-THEM-INC-   \n",
       "4          2000000.0                /ORGANIZATION/0-6-COM   \n",
       "6            41250.0     /ORGANIZATION/01GAMES-TECHNOLOGY   \n",
       "\n",
       "                     name            homepage_url  \\\n",
       "0                   #fame      http://livfame.com   \n",
       "2                :Qounter  http://www.qounter.com   \n",
       "3  (THE) ONE of THEM,Inc.     http://oneofthem.jp   \n",
       "4                 0-6.com      http://www.0-6.com   \n",
       "6      01Games Technology  http://www.01games.hk/   \n",
       "\n",
       "                                       category_list     status country_code  \\\n",
       "0                                              Media  operating          IND   \n",
       "2  Application Platforms|Real Time|Social Network...  operating          USA   \n",
       "3                                  Apps|Games|Mobile  operating          NaN   \n",
       "4                                        Curated Web  operating          CHN   \n",
       "6                                              Games  operating          HKG   \n",
       "\n",
       "          primary_sector  \n",
       "0                  Media  \n",
       "2  Application Platforms  \n",
       "3                   Apps  \n",
       "4            Curated Web  \n",
       "6                  Games  "
      ]
     },
     "execution_count": 33,
     "metadata": {},
     "output_type": "execute_result"
    }
   ],
   "source": [
    "# with the business rule that the first string before the vertical bar will be considered the primary sector.\n",
    "#Extract the primary sector of each category list from the category_list column\n",
    "master_frame['primary_sector']= master_frame['category_list'].str.split('|',1).str[0]\n",
    "master_frame.head()"
   ]
  },
  {
   "cell_type": "code",
   "execution_count": 34,
   "metadata": {},
   "outputs": [
    {
     "data": {
      "text/html": [
       "<div>\n",
       "<style scoped>\n",
       "    .dataframe tbody tr th:only-of-type {\n",
       "        vertical-align: middle;\n",
       "    }\n",
       "\n",
       "    .dataframe tbody tr th {\n",
       "        vertical-align: top;\n",
       "    }\n",
       "\n",
       "    .dataframe thead th {\n",
       "        text-align: right;\n",
       "    }\n",
       "</style>\n",
       "<table border=\"1\" class=\"dataframe\">\n",
       "  <thead>\n",
       "    <tr style=\"text-align: right;\">\n",
       "      <th></th>\n",
       "      <th>category_list</th>\n",
       "      <th>sectors</th>\n",
       "      <th>main_sectors</th>\n",
       "    </tr>\n",
       "  </thead>\n",
       "  <tbody>\n",
       "    <tr>\n",
       "      <th>0</th>\n",
       "      <td>3d</td>\n",
       "      <td>Automotive &amp; Sports</td>\n",
       "      <td>0</td>\n",
       "    </tr>\n",
       "    <tr>\n",
       "      <th>1</th>\n",
       "      <td>3d printing</td>\n",
       "      <td>Automotive &amp; Sports</td>\n",
       "      <td>0</td>\n",
       "    </tr>\n",
       "    <tr>\n",
       "      <th>2</th>\n",
       "      <td>3d technology</td>\n",
       "      <td>Automotive &amp; Sports</td>\n",
       "      <td>0</td>\n",
       "    </tr>\n",
       "    <tr>\n",
       "      <th>3</th>\n",
       "      <td>accounting</td>\n",
       "      <td>Automotive &amp; Sports</td>\n",
       "      <td>0</td>\n",
       "    </tr>\n",
       "    <tr>\n",
       "      <th>4</th>\n",
       "      <td>active lifestyle</td>\n",
       "      <td>Automotive &amp; Sports</td>\n",
       "      <td>0</td>\n",
       "    </tr>\n",
       "    <tr>\n",
       "      <th>5</th>\n",
       "      <td>ad targeting</td>\n",
       "      <td>Automotive &amp; Sports</td>\n",
       "      <td>0</td>\n",
       "    </tr>\n",
       "    <tr>\n",
       "      <th>6</th>\n",
       "      <td>advanced materials</td>\n",
       "      <td>Automotive &amp; Sports</td>\n",
       "      <td>0</td>\n",
       "    </tr>\n",
       "    <tr>\n",
       "      <th>7</th>\n",
       "      <td>adventure travel</td>\n",
       "      <td>Automotive &amp; Sports</td>\n",
       "      <td>1</td>\n",
       "    </tr>\n",
       "    <tr>\n",
       "      <th>8</th>\n",
       "      <td>advertising</td>\n",
       "      <td>Automotive &amp; Sports</td>\n",
       "      <td>0</td>\n",
       "    </tr>\n",
       "    <tr>\n",
       "      <th>9</th>\n",
       "      <td>advertising exchanges</td>\n",
       "      <td>Automotive &amp; Sports</td>\n",
       "      <td>0</td>\n",
       "    </tr>\n",
       "    <tr>\n",
       "      <th>10</th>\n",
       "      <td>advertising networks</td>\n",
       "      <td>Automotive &amp; Sports</td>\n",
       "      <td>0</td>\n",
       "    </tr>\n",
       "    <tr>\n",
       "      <th>11</th>\n",
       "      <td>advertising platforms</td>\n",
       "      <td>Automotive &amp; Sports</td>\n",
       "      <td>0</td>\n",
       "    </tr>\n",
       "    <tr>\n",
       "      <th>12</th>\n",
       "      <td>advice</td>\n",
       "      <td>Automotive &amp; Sports</td>\n",
       "      <td>0</td>\n",
       "    </tr>\n",
       "    <tr>\n",
       "      <th>13</th>\n",
       "      <td>aerospace</td>\n",
       "      <td>Automotive &amp; Sports</td>\n",
       "      <td>1</td>\n",
       "    </tr>\n",
       "    <tr>\n",
       "      <th>14</th>\n",
       "      <td>agriculture</td>\n",
       "      <td>Automotive &amp; Sports</td>\n",
       "      <td>0</td>\n",
       "    </tr>\n",
       "    <tr>\n",
       "      <th>15</th>\n",
       "      <td>air pollution control</td>\n",
       "      <td>Automotive &amp; Sports</td>\n",
       "      <td>0</td>\n",
       "    </tr>\n",
       "    <tr>\n",
       "      <th>16</th>\n",
       "      <td>algorithms</td>\n",
       "      <td>Automotive &amp; Sports</td>\n",
       "      <td>0</td>\n",
       "    </tr>\n",
       "    <tr>\n",
       "      <th>17</th>\n",
       "      <td>all markets</td>\n",
       "      <td>Automotive &amp; Sports</td>\n",
       "      <td>0</td>\n",
       "    </tr>\n",
       "    <tr>\n",
       "      <th>18</th>\n",
       "      <td>all students</td>\n",
       "      <td>Automotive &amp; Sports</td>\n",
       "      <td>0</td>\n",
       "    </tr>\n",
       "    <tr>\n",
       "      <th>19</th>\n",
       "      <td>alternative medicine</td>\n",
       "      <td>Automotive &amp; Sports</td>\n",
       "      <td>0</td>\n",
       "    </tr>\n",
       "  </tbody>\n",
       "</table>\n",
       "</div>"
      ],
      "text/plain": [
       "            category_list              sectors  main_sectors\n",
       "0                      3d  Automotive & Sports             0\n",
       "1             3d printing  Automotive & Sports             0\n",
       "2           3d technology  Automotive & Sports             0\n",
       "3              accounting  Automotive & Sports             0\n",
       "4        active lifestyle  Automotive & Sports             0\n",
       "5            ad targeting  Automotive & Sports             0\n",
       "6      advanced materials  Automotive & Sports             0\n",
       "7        adventure travel  Automotive & Sports             1\n",
       "8             advertising  Automotive & Sports             0\n",
       "9   advertising exchanges  Automotive & Sports             0\n",
       "10   advertising networks  Automotive & Sports             0\n",
       "11  advertising platforms  Automotive & Sports             0\n",
       "12                 advice  Automotive & Sports             0\n",
       "13              aerospace  Automotive & Sports             1\n",
       "14            agriculture  Automotive & Sports             0\n",
       "15  air pollution control  Automotive & Sports             0\n",
       "16             algorithms  Automotive & Sports             0\n",
       "17            all markets  Automotive & Sports             0\n",
       "18           all students  Automotive & Sports             0\n",
       "19   alternative medicine  Automotive & Sports             0"
      ]
     },
     "execution_count": 34,
     "metadata": {},
     "output_type": "execute_result"
    }
   ],
   "source": [
    "#converting the columns to rows using melt fun\n",
    "wide_to_long_df = pd.melt(mapping,id_vars = ['category_list'],var_name = 'sectors',value_name = 'main_sectors')\n",
    "wide_to_long_df.head(20)"
   ]
  },
  {
   "cell_type": "code",
   "execution_count": 35,
   "metadata": {},
   "outputs": [
    {
     "data": {
      "text/html": [
       "<div>\n",
       "<style scoped>\n",
       "    .dataframe tbody tr th:only-of-type {\n",
       "        vertical-align: middle;\n",
       "    }\n",
       "\n",
       "    .dataframe tbody tr th {\n",
       "        vertical-align: top;\n",
       "    }\n",
       "\n",
       "    .dataframe thead th {\n",
       "        text-align: right;\n",
       "    }\n",
       "</style>\n",
       "<table border=\"1\" class=\"dataframe\">\n",
       "  <thead>\n",
       "    <tr style=\"text-align: right;\">\n",
       "      <th></th>\n",
       "      <th>category_list</th>\n",
       "      <th>sectors</th>\n",
       "      <th>main_sectors</th>\n",
       "    </tr>\n",
       "  </thead>\n",
       "  <tbody>\n",
       "    <tr>\n",
       "      <th>7</th>\n",
       "      <td>adventure travel</td>\n",
       "      <td>Automotive &amp; Sports</td>\n",
       "      <td>1</td>\n",
       "    </tr>\n",
       "    <tr>\n",
       "      <th>13</th>\n",
       "      <td>aerospace</td>\n",
       "      <td>Automotive &amp; Sports</td>\n",
       "      <td>1</td>\n",
       "    </tr>\n",
       "    <tr>\n",
       "      <th>44</th>\n",
       "      <td>auto</td>\n",
       "      <td>Automotive &amp; Sports</td>\n",
       "      <td>1</td>\n",
       "    </tr>\n",
       "    <tr>\n",
       "      <th>45</th>\n",
       "      <td>automated kiosk</td>\n",
       "      <td>Automotive &amp; Sports</td>\n",
       "      <td>1</td>\n",
       "    </tr>\n",
       "    <tr>\n",
       "      <th>46</th>\n",
       "      <td>automotive</td>\n",
       "      <td>Automotive &amp; Sports</td>\n",
       "      <td>1</td>\n",
       "    </tr>\n",
       "  </tbody>\n",
       "</table>\n",
       "</div>"
      ],
      "text/plain": [
       "       category_list              sectors  main_sectors\n",
       "7   adventure travel  Automotive & Sports             1\n",
       "13         aerospace  Automotive & Sports             1\n",
       "44              auto  Automotive & Sports             1\n",
       "45   automated kiosk  Automotive & Sports             1\n",
       "46        automotive  Automotive & Sports             1"
      ]
     },
     "execution_count": 35,
     "metadata": {},
     "output_type": "execute_result"
    }
   ],
   "source": [
    "#choosing only the values coresponding to sector\n",
    "main_sector = wide_to_long_df.loc[wide_to_long_df.main_sectors !=0]\n",
    "main_sector.head(5)"
   ]
  },
  {
   "cell_type": "code",
   "execution_count": 36,
   "metadata": {},
   "outputs": [
    {
     "name": "stdout",
     "output_type": "stream",
     "text": [
      "<class 'pandas.core.frame.DataFrame'>\n",
      "Int64Index: 94959 entries, 0 to 114948\n",
      "Data columns (total 12 columns):\n",
      "company_permalink          94959 non-null object\n",
      "funding_round_permalink    94959 non-null object\n",
      "funding_round_type         94959 non-null object\n",
      "raised_amount_usd          94959 non-null float64\n",
      "permalink                  94959 non-null object\n",
      "name                       94958 non-null object\n",
      "homepage_url               90627 non-null object\n",
      "category_list              93915 non-null object\n",
      "status                     94959 non-null object\n",
      "country_code               89108 non-null object\n",
      "primary_sector             93915 non-null object\n",
      "main_sector                93847 non-null object\n",
      "dtypes: float64(1), object(11)\n",
      "memory usage: 9.4+ MB\n"
     ]
    }
   ],
   "source": [
    "#mapping master frame and mapping files\n",
    "master_frame['primary_sector'] = master_frame['primary_sector'].str.lower()\n",
    "master_frame['main_sector'] = master_frame.primary_sector.map(main_sector.set_index('category_list').sectors)\n",
    "master_frame.info()"
   ]
  },
  {
   "cell_type": "markdown",
   "metadata": {},
   "source": [
    "# Checkpoint 5\n",
    "### Sector Analysis 2"
   ]
  },
  {
   "cell_type": "code",
   "execution_count": 37,
   "metadata": {},
   "outputs": [],
   "source": [
    "#Create a separate data frames D1, top 1 countrie containing the observations of funding type FT falling within the 5-15 million USD range.  1\n",
    "D1 = master_frame.loc[(master_frame.funding_round_type == 'venture') & (master_frame.country_code =='USA') & ((master_frame.raised_amount_usd >=5000000) & (master_frame.raised_amount_usd<=15000000))]\n",
    "\n",
    "D1['raised_amount_usd'] = D1['raised_amount_usd'].apply(lambda x:x/1000000)\n",
    "D1['raised_amount_usd'] = D1['raised_amount_usd'].apply(lambda x: round(x,2))\n"
   ]
  },
  {
   "cell_type": "code",
   "execution_count": 38,
   "metadata": {},
   "outputs": [],
   "source": [
    "#The total number (or count) of investments for each main sector in a separate column,\n",
    "sec_investment_cnt1 = D1.pivot_table(values = 'raised_amount_usd',index ='main_sector',aggfunc = 'count').sort_values('raised_amount_usd',ascending = False)\n",
    "#The total amount invested in each main sector in a separate column\n",
    "sec_investment_sum1 = D1.pivot_table(values = 'raised_amount_usd', index = 'main_sector', aggfunc ='sum').sort_values('raised_amount_usd',ascending = False)"
   ]
  },
  {
   "cell_type": "code",
   "execution_count": 39,
   "metadata": {},
   "outputs": [],
   "source": [
    "sec_investment_cnt1 = sec_investment_cnt1.rename(columns = {'raised_amount_usd' : 'sec_investment_cnt'})\n",
    "sec_investment_sum1 = sec_investment_sum1.rename(columns = {'raised_amount_usd' : 'sec_investment_sum'})"
   ]
  },
  {
   "cell_type": "code",
   "execution_count": 40,
   "metadata": {},
   "outputs": [],
   "source": [
    "D1 =pd.merge(D1,sec_investment_cnt1,on = 'main_sector',how = 'inner')\n",
    "D1 =pd.merge(D1,sec_investment_sum1,on = 'main_sector', how = 'inner')\n"
   ]
  },
  {
   "cell_type": "code",
   "execution_count": 41,
   "metadata": {},
   "outputs": [
    {
     "data": {
      "text/plain": [
       "(12063, 14)"
      ]
     },
     "execution_count": 41,
     "metadata": {},
     "output_type": "execute_result"
    }
   ],
   "source": [
    "D1.shape"
   ]
  },
  {
   "cell_type": "code",
   "execution_count": 42,
   "metadata": {},
   "outputs": [],
   "source": [
    "##Create a separate data frames D2, top 2 countries containing the observations of funding type FT falling within the 5-15 million USD range.  1\n",
    "D2 = master_frame.loc[(master_frame.funding_round_type == 'venture')& (master_frame.country_code == 'GBR') & (master_frame.raised_amount_usd >= 5000000) & (master_frame.raised_amount_usd <= 15000000)]\n",
    "D2['raised_amount_usd'] = D2['raised_amount_usd'].apply(lambda x : x/1000000)\n",
    "D2['raised_amount_usd'] = D2['raised_amount_usd'].apply(lambda x : round(x,2))\n",
    "\n",
    "sec_investment_cnt2 = D2.pivot_table(values = 'raised_amount_usd',index ='main_sector',aggfunc = 'count')\n",
    "sec_investment_sum2 = D2.pivot_table(values = 'raised_amount_usd', index = 'main_sector', aggfunc ='sum')\n"
   ]
  },
  {
   "cell_type": "code",
   "execution_count": 43,
   "metadata": {},
   "outputs": [],
   "source": [
    "sec_investment_cnt2 = sec_investment_cnt2.rename(columns = {'raised_amount_usd' : 'sec_investment_cnt'})\n",
    "sec_investment_sum2 = sec_investment_sum2.rename(columns = {'raised_amount_usd':'sec_investment_sum'})\n"
   ]
  },
  {
   "cell_type": "code",
   "execution_count": 44,
   "metadata": {},
   "outputs": [
    {
     "name": "stdout",
     "output_type": "stream",
     "text": [
      "<class 'pandas.core.frame.DataFrame'>\n",
      "Int64Index: 621 entries, 0 to 620\n",
      "Data columns (total 14 columns):\n",
      "company_permalink          621 non-null object\n",
      "funding_round_permalink    621 non-null object\n",
      "funding_round_type         621 non-null object\n",
      "raised_amount_usd          621 non-null float64\n",
      "permalink                  621 non-null object\n",
      "name                       621 non-null object\n",
      "homepage_url               592 non-null object\n",
      "category_list              621 non-null object\n",
      "status                     621 non-null object\n",
      "country_code               621 non-null object\n",
      "primary_sector             621 non-null object\n",
      "main_sector                621 non-null object\n",
      "sec_investment_cnt         621 non-null int64\n",
      "sec_investment_sum         621 non-null float64\n",
      "dtypes: float64(2), int64(1), object(11)\n",
      "memory usage: 72.8+ KB\n"
     ]
    }
   ],
   "source": [
    "D2= pd.merge(D2,sec_investment_cnt2,on = 'main_sector',how = 'inner')\n",
    "D2 = pd.merge(D2,sec_investment_sum2,on='main_sector', how = 'inner')\n",
    "D2.info()"
   ]
  },
  {
   "cell_type": "code",
   "execution_count": 45,
   "metadata": {},
   "outputs": [],
   "source": [
    "##Create a separate data frames D3, top 3 countries containing the observations of funding type FT falling within the 5-15 million USD range. \n",
    "D3 = master_frame.loc[(master_frame.funding_round_type == 'venture')& (master_frame.country_code == 'IND') & (master_frame.raised_amount_usd >= 5000000) & (master_frame.raised_amount_usd <= 15000000)]"
   ]
  },
  {
   "cell_type": "code",
   "execution_count": 46,
   "metadata": {},
   "outputs": [],
   "source": [
    "D3['raised_amount_usd'] = D3['raised_amount_usd'].apply(lambda x : x/1000000)\n",
    "D3['raised_amount_usd'] = D3['raised_amount_usd'].apply(lambda x : round(x,2))"
   ]
  },
  {
   "cell_type": "code",
   "execution_count": 47,
   "metadata": {},
   "outputs": [],
   "source": [
    "sec_investment_cnt3 = D3.pivot_table(values = 'raised_amount_usd',index ='main_sector',aggfunc = 'count')\n",
    "sec_investment_sum3 = D3.pivot_table(values = 'raised_amount_usd', index = 'main_sector', aggfunc ='sum')\n",
    "sec_investment_cnt3 = sec_investment_cnt3.rename(columns = {'raised_amount_usd' : 'sec_investment_cnt'})\n",
    "sec_investment_sum3 = sec_investment_sum3.rename(columns = {'raised_amount_usd' : 'sec_investment_sum'})"
   ]
  },
  {
   "cell_type": "code",
   "execution_count": 48,
   "metadata": {},
   "outputs": [
    {
     "name": "stdout",
     "output_type": "stream",
     "text": [
      "<class 'pandas.core.frame.DataFrame'>\n",
      "Int64Index: 328 entries, 0 to 327\n",
      "Data columns (total 14 columns):\n",
      "company_permalink          328 non-null object\n",
      "funding_round_permalink    328 non-null object\n",
      "funding_round_type         328 non-null object\n",
      "raised_amount_usd          328 non-null float64\n",
      "permalink                  328 non-null object\n",
      "name                       328 non-null object\n",
      "homepage_url               325 non-null object\n",
      "category_list              328 non-null object\n",
      "status                     328 non-null object\n",
      "country_code               328 non-null object\n",
      "primary_sector             328 non-null object\n",
      "main_sector                328 non-null object\n",
      "sec_investment_cnt         328 non-null int64\n",
      "sec_investment_sum         328 non-null float64\n",
      "dtypes: float64(2), int64(1), object(11)\n",
      "memory usage: 38.4+ KB\n"
     ]
    }
   ],
   "source": [
    "\n",
    "D3= pd.merge(D3,sec_investment_cnt3,on = 'main_sector',how = 'inner')\n",
    "D3 = pd.merge(D3,sec_investment_sum3,on='main_sector',how='inner')\n",
    "D3.info()"
   ]
  },
  {
   "attachments": {},
   "cell_type": "markdown",
   "metadata": {},
   "source": [
    "#### Total number of Investments (count) for country C1= 'USA',C2 = 'GBR',C3='IND'"
   ]
  },
  {
   "cell_type": "code",
   "execution_count": 49,
   "metadata": {},
   "outputs": [
    {
     "data": {
      "text/plain": [
       "sec_investment_cnt    12063\n",
       "dtype: int64"
      ]
     },
     "execution_count": 49,
     "metadata": {},
     "output_type": "execute_result"
    }
   ],
   "source": [
    "sec_investment_cnt1.sum()"
   ]
  },
  {
   "cell_type": "code",
   "execution_count": 50,
   "metadata": {},
   "outputs": [
    {
     "data": {
      "text/plain": [
       "sec_investment_sum    107757.2\n",
       "dtype: float64"
      ]
     },
     "execution_count": 50,
     "metadata": {},
     "output_type": "execute_result"
    }
   ],
   "source": [
    "sec_investment_sum1.sum()"
   ]
  },
  {
   "cell_type": "code",
   "execution_count": 51,
   "metadata": {},
   "outputs": [
    {
     "data": {
      "text/plain": [
       "sec_investment_cnt    621\n",
       "dtype: int64"
      ]
     },
     "execution_count": 51,
     "metadata": {},
     "output_type": "execute_result"
    }
   ],
   "source": [
    "sec_investment_cnt2.sum()"
   ]
  },
  {
   "cell_type": "code",
   "execution_count": 52,
   "metadata": {},
   "outputs": [
    {
     "data": {
      "text/plain": [
       "sec_investment_sum    5379.07\n",
       "dtype: float64"
      ]
     },
     "execution_count": 52,
     "metadata": {},
     "output_type": "execute_result"
    }
   ],
   "source": [
    "sec_investment_sum2.sum()"
   ]
  },
  {
   "cell_type": "code",
   "execution_count": 53,
   "metadata": {},
   "outputs": [
    {
     "data": {
      "text/plain": [
       "sec_investment_cnt    328\n",
       "dtype: int64"
      ]
     },
     "execution_count": 53,
     "metadata": {},
     "output_type": "execute_result"
    }
   ],
   "source": [
    "sec_investment_cnt3.sum()"
   ]
  },
  {
   "cell_type": "code",
   "execution_count": 54,
   "metadata": {},
   "outputs": [
    {
     "data": {
      "text/plain": [
       "sec_investment_sum    2949.55\n",
       "dtype: float64"
      ]
     },
     "execution_count": 54,
     "metadata": {},
     "output_type": "execute_result"
    }
   ],
   "source": [
    "sec_investment_sum3.sum()"
   ]
  },
  {
   "attachments": {},
   "cell_type": "markdown",
   "metadata": {},
   "source": [
    "### For point 3 (top sector count-wise), which company received the highest investment?"
   ]
  },
  {
   "cell_type": "code",
   "execution_count": 55,
   "metadata": {},
   "outputs": [
    {
     "data": {
      "text/html": [
       "<div>\n",
       "<style scoped>\n",
       "    .dataframe tbody tr th:only-of-type {\n",
       "        vertical-align: middle;\n",
       "    }\n",
       "\n",
       "    .dataframe tbody tr th {\n",
       "        vertical-align: top;\n",
       "    }\n",
       "\n",
       "    .dataframe thead th {\n",
       "        text-align: right;\n",
       "    }\n",
       "</style>\n",
       "<table border=\"1\" class=\"dataframe\">\n",
       "  <thead>\n",
       "    <tr style=\"text-align: right;\">\n",
       "      <th></th>\n",
       "      <th>sec_investment_cnt</th>\n",
       "    </tr>\n",
       "    <tr>\n",
       "      <th>main_sector</th>\n",
       "      <th></th>\n",
       "    </tr>\n",
       "  </thead>\n",
       "  <tbody>\n",
       "    <tr>\n",
       "      <th>Others</th>\n",
       "      <td>2950</td>\n",
       "    </tr>\n",
       "    <tr>\n",
       "      <th>Social, Finance, Analytics, Advertising</th>\n",
       "      <td>2714</td>\n",
       "    </tr>\n",
       "    <tr>\n",
       "      <th>Cleantech / Semiconductors</th>\n",
       "      <td>2350</td>\n",
       "    </tr>\n",
       "    <tr>\n",
       "      <th>News, Search and Messaging</th>\n",
       "      <td>1583</td>\n",
       "    </tr>\n",
       "    <tr>\n",
       "      <th>Health</th>\n",
       "      <td>909</td>\n",
       "    </tr>\n",
       "    <tr>\n",
       "      <th>Manufacturing</th>\n",
       "      <td>799</td>\n",
       "    </tr>\n",
       "    <tr>\n",
       "      <th>Entertainment</th>\n",
       "      <td>591</td>\n",
       "    </tr>\n",
       "    <tr>\n",
       "      <th>Automotive &amp; Sports</th>\n",
       "      <td>167</td>\n",
       "    </tr>\n",
       "  </tbody>\n",
       "</table>\n",
       "</div>"
      ],
      "text/plain": [
       "                                         sec_investment_cnt\n",
       "main_sector                                                \n",
       "Others                                                 2950\n",
       "Social, Finance, Analytics, Advertising                2714\n",
       "Cleantech / Semiconductors                             2350\n",
       "News, Search and Messaging                             1583\n",
       "Health                                                  909\n",
       "Manufacturing                                           799\n",
       "Entertainment                                           591\n",
       "Automotive & Sports                                     167"
      ]
     },
     "execution_count": 55,
     "metadata": {},
     "output_type": "execute_result"
    }
   ],
   "source": [
    "#sorting values based on investment by top country c1 for main sectors\n",
    "sec_investment_cnt1.sort_values(by = 'sec_investment_cnt',ascending = False)"
   ]
  },
  {
   "cell_type": "code",
   "execution_count": 56,
   "metadata": {},
   "outputs": [
    {
     "data": {
      "text/html": [
       "<div>\n",
       "<style scoped>\n",
       "    .dataframe tbody tr th:only-of-type {\n",
       "        vertical-align: middle;\n",
       "    }\n",
       "\n",
       "    .dataframe tbody tr th {\n",
       "        vertical-align: top;\n",
       "    }\n",
       "\n",
       "    .dataframe thead th {\n",
       "        text-align: right;\n",
       "    }\n",
       "</style>\n",
       "<table border=\"1\" class=\"dataframe\">\n",
       "  <thead>\n",
       "    <tr style=\"text-align: right;\">\n",
       "      <th></th>\n",
       "      <th>sec_investment_cnt</th>\n",
       "    </tr>\n",
       "    <tr>\n",
       "      <th>main_sector</th>\n",
       "      <th></th>\n",
       "    </tr>\n",
       "  </thead>\n",
       "  <tbody>\n",
       "    <tr>\n",
       "      <th>Others</th>\n",
       "      <td>147</td>\n",
       "    </tr>\n",
       "    <tr>\n",
       "      <th>Social, Finance, Analytics, Advertising</th>\n",
       "      <td>133</td>\n",
       "    </tr>\n",
       "    <tr>\n",
       "      <th>Cleantech / Semiconductors</th>\n",
       "      <td>130</td>\n",
       "    </tr>\n",
       "    <tr>\n",
       "      <th>News, Search and Messaging</th>\n",
       "      <td>73</td>\n",
       "    </tr>\n",
       "    <tr>\n",
       "      <th>Entertainment</th>\n",
       "      <td>56</td>\n",
       "    </tr>\n",
       "    <tr>\n",
       "      <th>Manufacturing</th>\n",
       "      <td>42</td>\n",
       "    </tr>\n",
       "    <tr>\n",
       "      <th>Health</th>\n",
       "      <td>24</td>\n",
       "    </tr>\n",
       "    <tr>\n",
       "      <th>Automotive &amp; Sports</th>\n",
       "      <td>16</td>\n",
       "    </tr>\n",
       "  </tbody>\n",
       "</table>\n",
       "</div>"
      ],
      "text/plain": [
       "                                         sec_investment_cnt\n",
       "main_sector                                                \n",
       "Others                                                  147\n",
       "Social, Finance, Analytics, Advertising                 133\n",
       "Cleantech / Semiconductors                              130\n",
       "News, Search and Messaging                               73\n",
       "Entertainment                                            56\n",
       "Manufacturing                                            42\n",
       "Health                                                   24\n",
       "Automotive & Sports                                      16"
      ]
     },
     "execution_count": 56,
     "metadata": {},
     "output_type": "execute_result"
    }
   ],
   "source": [
    "##sorting values based on investment by top country c2 for sectors\n",
    "sec_investment_cnt2.sort_values(by = 'sec_investment_cnt', ascending = False )"
   ]
  },
  {
   "cell_type": "code",
   "execution_count": 57,
   "metadata": {},
   "outputs": [
    {
     "data": {
      "text/html": [
       "<div>\n",
       "<style scoped>\n",
       "    .dataframe tbody tr th:only-of-type {\n",
       "        vertical-align: middle;\n",
       "    }\n",
       "\n",
       "    .dataframe tbody tr th {\n",
       "        vertical-align: top;\n",
       "    }\n",
       "\n",
       "    .dataframe thead th {\n",
       "        text-align: right;\n",
       "    }\n",
       "</style>\n",
       "<table border=\"1\" class=\"dataframe\">\n",
       "  <thead>\n",
       "    <tr style=\"text-align: right;\">\n",
       "      <th></th>\n",
       "      <th>sec_investment_cnt</th>\n",
       "    </tr>\n",
       "    <tr>\n",
       "      <th>main_sector</th>\n",
       "      <th></th>\n",
       "    </tr>\n",
       "  </thead>\n",
       "  <tbody>\n",
       "    <tr>\n",
       "      <th>Others</th>\n",
       "      <td>110</td>\n",
       "    </tr>\n",
       "    <tr>\n",
       "      <th>Social, Finance, Analytics, Advertising</th>\n",
       "      <td>60</td>\n",
       "    </tr>\n",
       "    <tr>\n",
       "      <th>News, Search and Messaging</th>\n",
       "      <td>52</td>\n",
       "    </tr>\n",
       "    <tr>\n",
       "      <th>Entertainment</th>\n",
       "      <td>33</td>\n",
       "    </tr>\n",
       "    <tr>\n",
       "      <th>Manufacturing</th>\n",
       "      <td>21</td>\n",
       "    </tr>\n",
       "    <tr>\n",
       "      <th>Cleantech / Semiconductors</th>\n",
       "      <td>20</td>\n",
       "    </tr>\n",
       "    <tr>\n",
       "      <th>Health</th>\n",
       "      <td>19</td>\n",
       "    </tr>\n",
       "    <tr>\n",
       "      <th>Automotive &amp; Sports</th>\n",
       "      <td>13</td>\n",
       "    </tr>\n",
       "  </tbody>\n",
       "</table>\n",
       "</div>"
      ],
      "text/plain": [
       "                                         sec_investment_cnt\n",
       "main_sector                                                \n",
       "Others                                                  110\n",
       "Social, Finance, Analytics, Advertising                  60\n",
       "News, Search and Messaging                               52\n",
       "Entertainment                                            33\n",
       "Manufacturing                                            21\n",
       "Cleantech / Semiconductors                               20\n",
       "Health                                                   19\n",
       "Automotive & Sports                                      13"
      ]
     },
     "execution_count": 57,
     "metadata": {},
     "output_type": "execute_result"
    }
   ],
   "source": [
    "##sorting values based on investment by top country c3 for sectors\n",
    "sec_investment_cnt3.sort_values(by = 'sec_investment_cnt', ascending = False )"
   ]
  },
  {
   "cell_type": "code",
   "execution_count": 58,
   "metadata": {},
   "outputs": [
    {
     "data": {
      "text/html": [
       "<div>\n",
       "<style scoped>\n",
       "    .dataframe tbody tr th:only-of-type {\n",
       "        vertical-align: middle;\n",
       "    }\n",
       "\n",
       "    .dataframe tbody tr th {\n",
       "        vertical-align: top;\n",
       "    }\n",
       "\n",
       "    .dataframe thead th {\n",
       "        text-align: right;\n",
       "    }\n",
       "</style>\n",
       "<table border=\"1\" class=\"dataframe\">\n",
       "  <thead>\n",
       "    <tr style=\"text-align: right;\">\n",
       "      <th></th>\n",
       "      <th></th>\n",
       "      <th>raised_amount_usd</th>\n",
       "    </tr>\n",
       "    <tr>\n",
       "      <th>name</th>\n",
       "      <th>permalink</th>\n",
       "      <th></th>\n",
       "    </tr>\n",
       "  </thead>\n",
       "  <tbody>\n",
       "    <tr>\n",
       "      <th>Virtustream</th>\n",
       "      <th>/ORGANIZATION/VIRTUSTREAM</th>\n",
       "      <td>64.30</td>\n",
       "    </tr>\n",
       "    <tr>\n",
       "      <th>Capella Photonics</th>\n",
       "      <th>/ORGANIZATION/CAPELLA</th>\n",
       "      <td>54.97</td>\n",
       "    </tr>\n",
       "    <tr>\n",
       "      <th>AirTight Networks</th>\n",
       "      <th>/ORGANIZATION/AIRTIGHT-NETWORKS</th>\n",
       "      <td>54.20</td>\n",
       "    </tr>\n",
       "    <tr>\n",
       "      <th>deCarta</th>\n",
       "      <th>/ORGANIZATION/DECARTA</th>\n",
       "      <td>52.10</td>\n",
       "    </tr>\n",
       "    <tr>\n",
       "      <th>Black Duck Software</th>\n",
       "      <th>/ORGANIZATION/BLACK-DUCK-SOFTWARE</th>\n",
       "      <td>51.00</td>\n",
       "    </tr>\n",
       "    <tr>\n",
       "      <th>Approva</th>\n",
       "      <th>/ORGANIZATION/APPROVA</th>\n",
       "      <td>50.10</td>\n",
       "    </tr>\n",
       "    <tr>\n",
       "      <th>Five9</th>\n",
       "      <th>/ORGANIZATION/FIVE9</th>\n",
       "      <td>49.60</td>\n",
       "    </tr>\n",
       "    <tr>\n",
       "      <th>Bit9</th>\n",
       "      <th>/ORGANIZATION/BIT9</th>\n",
       "      <td>48.43</td>\n",
       "    </tr>\n",
       "    <tr>\n",
       "      <th>Aryaka Networks</th>\n",
       "      <th>/ORGANIZATION/ARYAKA-NETWORKS</th>\n",
       "      <td>48.17</td>\n",
       "    </tr>\n",
       "    <tr>\n",
       "      <th>BTI Systems</th>\n",
       "      <th>/ORGANIZATION/BTI-SYSTEMS</th>\n",
       "      <td>48.00</td>\n",
       "    </tr>\n",
       "  </tbody>\n",
       "</table>\n",
       "</div>"
      ],
      "text/plain": [
       "                                                       raised_amount_usd\n",
       "name                permalink                                           \n",
       "Virtustream         /ORGANIZATION/VIRTUSTREAM                      64.30\n",
       "Capella Photonics   /ORGANIZATION/CAPELLA                          54.97\n",
       "AirTight Networks   /ORGANIZATION/AIRTIGHT-NETWORKS                54.20\n",
       "deCarta             /ORGANIZATION/DECARTA                          52.10\n",
       "Black Duck Software /ORGANIZATION/BLACK-DUCK-SOFTWARE              51.00\n",
       "Approva             /ORGANIZATION/APPROVA                          50.10\n",
       "Five9               /ORGANIZATION/FIVE9                            49.60\n",
       "Bit9                /ORGANIZATION/BIT9                             48.43\n",
       "Aryaka Networks     /ORGANIZATION/ARYAKA-NETWORKS                  48.17\n",
       "BTI Systems         /ORGANIZATION/BTI-SYSTEMS                      48.00"
      ]
     },
     "execution_count": 58,
     "metadata": {},
     "output_type": "execute_result"
    }
   ],
   "source": [
    "#company received highest investment in  top sector and in country c1\n",
    "top_company_investment1 = D1.loc[(D1.main_sector == 'Others')]\n",
    "top_company_investment1 = top_company_investment1.pivot_table(values = 'raised_amount_usd', index = ['name','permalink'], aggfunc = 'sum').sort_values(by = 'raised_amount_usd',ascending = False)\n",
    "top_company_investment1[:10]"
   ]
  },
  {
   "cell_type": "code",
   "execution_count": 59,
   "metadata": {},
   "outputs": [
    {
     "data": {
      "text/html": [
       "<div>\n",
       "<style scoped>\n",
       "    .dataframe tbody tr th:only-of-type {\n",
       "        vertical-align: middle;\n",
       "    }\n",
       "\n",
       "    .dataframe tbody tr th {\n",
       "        vertical-align: top;\n",
       "    }\n",
       "\n",
       "    .dataframe thead th {\n",
       "        text-align: right;\n",
       "    }\n",
       "</style>\n",
       "<table border=\"1\" class=\"dataframe\">\n",
       "  <thead>\n",
       "    <tr style=\"text-align: right;\">\n",
       "      <th></th>\n",
       "      <th></th>\n",
       "      <th>raised_amount_usd</th>\n",
       "    </tr>\n",
       "    <tr>\n",
       "      <th>name</th>\n",
       "      <th>permalink</th>\n",
       "      <th></th>\n",
       "    </tr>\n",
       "  </thead>\n",
       "  <tbody>\n",
       "    <tr>\n",
       "      <th>Electric Cloud</th>\n",
       "      <th>/ORGANIZATION/ELECTRIC-CLOUD</th>\n",
       "      <td>37.00</td>\n",
       "    </tr>\n",
       "    <tr>\n",
       "      <th>SenSage</th>\n",
       "      <th>/ORGANIZATION/SENSAGE</th>\n",
       "      <td>36.25</td>\n",
       "    </tr>\n",
       "    <tr>\n",
       "      <th>Enigmatec</th>\n",
       "      <th>/ORGANIZATION/ENIGMATIC</th>\n",
       "      <td>32.50</td>\n",
       "    </tr>\n",
       "    <tr>\n",
       "      <th>SilverRail Technologies</th>\n",
       "      <th>/ORGANIZATION/SILVERRAIL-TECHNOLOGIES</th>\n",
       "      <td>29.00</td>\n",
       "    </tr>\n",
       "    <tr>\n",
       "      <th>OpenCloud</th>\n",
       "      <th>/ORGANIZATION/OPENCLOUD</th>\n",
       "      <td>27.97</td>\n",
       "    </tr>\n",
       "    <tr>\n",
       "      <th>MyOptique Group</th>\n",
       "      <th>/ORGANIZATION/MYOPTIQUE-GROUP</th>\n",
       "      <td>27.70</td>\n",
       "    </tr>\n",
       "    <tr>\n",
       "      <th>Notonthehighstreet</th>\n",
       "      <th>/ORGANIZATION/NOTONTHEHIGHSTREET</th>\n",
       "      <td>26.90</td>\n",
       "    </tr>\n",
       "    <tr>\n",
       "      <th>ACS Clothing</th>\n",
       "      <th>/ORGANIZATION/ACS-CLOTHING</th>\n",
       "      <td>26.24</td>\n",
       "    </tr>\n",
       "    <tr>\n",
       "      <th>Tribold</th>\n",
       "      <th>/ORGANIZATION/TRIBOLD</th>\n",
       "      <td>26.00</td>\n",
       "    </tr>\n",
       "    <tr>\n",
       "      <th>ip.access</th>\n",
       "      <th>/ORGANIZATION/IP-ACCESS</th>\n",
       "      <td>25.00</td>\n",
       "    </tr>\n",
       "  </tbody>\n",
       "</table>\n",
       "</div>"
      ],
      "text/plain": [
       "                                                               raised_amount_usd\n",
       "name                    permalink                                               \n",
       "Electric Cloud          /ORGANIZATION/ELECTRIC-CLOUD                       37.00\n",
       "SenSage                 /ORGANIZATION/SENSAGE                              36.25\n",
       "Enigmatec               /ORGANIZATION/ENIGMATIC                            32.50\n",
       "SilverRail Technologies /ORGANIZATION/SILVERRAIL-TECHNOLOGIES              29.00\n",
       "OpenCloud               /ORGANIZATION/OPENCLOUD                            27.97\n",
       "MyOptique Group         /ORGANIZATION/MYOPTIQUE-GROUP                      27.70\n",
       "Notonthehighstreet      /ORGANIZATION/NOTONTHEHIGHSTREET                   26.90\n",
       "ACS Clothing            /ORGANIZATION/ACS-CLOTHING                         26.24\n",
       "Tribold                 /ORGANIZATION/TRIBOLD                              26.00\n",
       "ip.access               /ORGANIZATION/IP-ACCESS                            25.00"
      ]
     },
     "execution_count": 59,
     "metadata": {},
     "output_type": "execute_result"
    }
   ],
   "source": [
    "top_company_investment2 = D2.loc[(D2.main_sector == 'Others')]\n",
    "top_company_investment2 = top_company_investment2.pivot_table(values = 'raised_amount_usd', index = ['name','permalink'], aggfunc = 'sum').sort_values(by = 'raised_amount_usd',ascending = False)\n",
    "top_company_investment2[:10]"
   ]
  },
  {
   "cell_type": "code",
   "execution_count": 60,
   "metadata": {},
   "outputs": [
    {
     "data": {
      "text/html": [
       "<div>\n",
       "<style scoped>\n",
       "    .dataframe tbody tr th:only-of-type {\n",
       "        vertical-align: middle;\n",
       "    }\n",
       "\n",
       "    .dataframe tbody tr th {\n",
       "        vertical-align: top;\n",
       "    }\n",
       "\n",
       "    .dataframe thead th {\n",
       "        text-align: right;\n",
       "    }\n",
       "</style>\n",
       "<table border=\"1\" class=\"dataframe\">\n",
       "  <thead>\n",
       "    <tr style=\"text-align: right;\">\n",
       "      <th></th>\n",
       "      <th></th>\n",
       "      <th>raised_amount_usd</th>\n",
       "    </tr>\n",
       "    <tr>\n",
       "      <th>name</th>\n",
       "      <th>permalink</th>\n",
       "      <th></th>\n",
       "    </tr>\n",
       "  </thead>\n",
       "  <tbody>\n",
       "    <tr>\n",
       "      <th>FirstCry.com</th>\n",
       "      <th>/ORGANIZATION/FIRSTCRY-COM</th>\n",
       "      <td>39.0</td>\n",
       "    </tr>\n",
       "    <tr>\n",
       "      <th>Myntra</th>\n",
       "      <th>/ORGANIZATION/MYNTRA</th>\n",
       "      <td>38.0</td>\n",
       "    </tr>\n",
       "    <tr>\n",
       "      <th>CommonFloor</th>\n",
       "      <th>/ORGANIZATION/COMMONFLOOR</th>\n",
       "      <td>32.9</td>\n",
       "    </tr>\n",
       "    <tr>\n",
       "      <th>Pepperfry.com</th>\n",
       "      <th>/ORGANIZATION/PEPPERFRY-COM</th>\n",
       "      <td>28.0</td>\n",
       "    </tr>\n",
       "    <tr>\n",
       "      <th>ItzCash Card Ltd.</th>\n",
       "      <th>/ORGANIZATION/ITZCASH-CARD-LTD</th>\n",
       "      <td>25.0</td>\n",
       "    </tr>\n",
       "    <tr>\n",
       "      <th>NxtGen Data Center &amp; Cloud Services</th>\n",
       "      <th>/ORGANIZATION/NXTGEN-DATA-CENTER-CLOUD-SERVICES</th>\n",
       "      <td>22.3</td>\n",
       "    </tr>\n",
       "    <tr>\n",
       "      <th>Maharana Infrastructure and Professional Services Private Limited (MIPS)</th>\n",
       "      <th>/ORGANIZATION/MAHARANA-INFRASTRUCTURE-AND-PROFESSIONAL-SERVICES-PRIVATE-LIMITED-MIPS</th>\n",
       "      <td>21.6</td>\n",
       "    </tr>\n",
       "    <tr>\n",
       "      <th>Comat Technologies</th>\n",
       "      <th>/ORGANIZATION/COMAT-TECHNOLOGIES</th>\n",
       "      <td>21.0</td>\n",
       "    </tr>\n",
       "    <tr>\n",
       "      <th>CaratLane</th>\n",
       "      <th>/ORGANIZATION/CARATLANE</th>\n",
       "      <td>21.0</td>\n",
       "    </tr>\n",
       "    <tr>\n",
       "      <th>Roposo</th>\n",
       "      <th>/ORGANIZATION/ROPOSO</th>\n",
       "      <td>20.0</td>\n",
       "    </tr>\n",
       "  </tbody>\n",
       "</table>\n",
       "</div>"
      ],
      "text/plain": [
       "                                                                                                       raised_amount_usd\n",
       "name                                               permalink                                                            \n",
       "FirstCry.com                                       /ORGANIZATION/FIRSTCRY-COM                                       39.0\n",
       "Myntra                                             /ORGANIZATION/MYNTRA                                             38.0\n",
       "CommonFloor                                        /ORGANIZATION/COMMONFLOOR                                        32.9\n",
       "Pepperfry.com                                      /ORGANIZATION/PEPPERFRY-COM                                      28.0\n",
       "ItzCash Card Ltd.                                  /ORGANIZATION/ITZCASH-CARD-LTD                                   25.0\n",
       "NxtGen Data Center & Cloud Services                /ORGANIZATION/NXTGEN-DATA-CENTER-CLOUD-SERVICES                  22.3\n",
       "Maharana Infrastructure and Professional Servic... /ORGANIZATION/MAHARANA-INFRASTRUCTURE-AND-PROFE...               21.6\n",
       "Comat Technologies                                 /ORGANIZATION/COMAT-TECHNOLOGIES                                 21.0\n",
       "CaratLane                                          /ORGANIZATION/CARATLANE                                          21.0\n",
       "Roposo                                             /ORGANIZATION/ROPOSO                                             20.0"
      ]
     },
     "execution_count": 60,
     "metadata": {},
     "output_type": "execute_result"
    }
   ],
   "source": [
    "top_company_investment3 = D3.loc[(D3.main_sector == 'Others')]\n",
    "top_company_investment3 = top_company_investment3.pivot_table(values = 'raised_amount_usd', index = ['name','permalink'], aggfunc = 'sum').sort_values(by = 'raised_amount_usd',ascending = False)\n",
    "top_company_investment3[:10]"
   ]
  },
  {
   "attachments": {},
   "cell_type": "markdown",
   "metadata": {},
   "source": [
    "##### second best sector count-wise, which company received the highest investment?\n"
   ]
  },
  {
   "cell_type": "code",
   "execution_count": 61,
   "metadata": {},
   "outputs": [
    {
     "data": {
      "text/html": [
       "<div>\n",
       "<style scoped>\n",
       "    .dataframe tbody tr th:only-of-type {\n",
       "        vertical-align: middle;\n",
       "    }\n",
       "\n",
       "    .dataframe tbody tr th {\n",
       "        vertical-align: top;\n",
       "    }\n",
       "\n",
       "    .dataframe thead th {\n",
       "        text-align: right;\n",
       "    }\n",
       "</style>\n",
       "<table border=\"1\" class=\"dataframe\">\n",
       "  <thead>\n",
       "    <tr style=\"text-align: right;\">\n",
       "      <th></th>\n",
       "      <th></th>\n",
       "      <th>raised_amount_usd</th>\n",
       "    </tr>\n",
       "    <tr>\n",
       "      <th>name</th>\n",
       "      <th>permalink</th>\n",
       "      <th></th>\n",
       "    </tr>\n",
       "  </thead>\n",
       "  <tbody>\n",
       "    <tr>\n",
       "      <th>SST Inc. (Formerly ShotSpotter)</th>\n",
       "      <th>/ORGANIZATION/SHOTSPOTTER</th>\n",
       "      <td>67.93</td>\n",
       "    </tr>\n",
       "    <tr>\n",
       "      <th>Demandbase</th>\n",
       "      <th>/ORGANIZATION/DEMANDBASE</th>\n",
       "      <td>63.00</td>\n",
       "    </tr>\n",
       "    <tr>\n",
       "      <th>Intacct</th>\n",
       "      <th>/ORGANIZATION/INTACCT</th>\n",
       "      <td>61.80</td>\n",
       "    </tr>\n",
       "    <tr>\n",
       "      <th>NetBase Solutions</th>\n",
       "      <th>/ORGANIZATION/NETBASE</th>\n",
       "      <td>60.60</td>\n",
       "    </tr>\n",
       "    <tr>\n",
       "      <th>Lotame</th>\n",
       "      <th>/ORGANIZATION/LOTAME</th>\n",
       "      <td>59.70</td>\n",
       "    </tr>\n",
       "  </tbody>\n",
       "</table>\n",
       "</div>"
      ],
      "text/plain": [
       "                                                           raised_amount_usd\n",
       "name                            permalink                                   \n",
       "SST Inc. (Formerly ShotSpotter) /ORGANIZATION/SHOTSPOTTER              67.93\n",
       "Demandbase                      /ORGANIZATION/DEMANDBASE               63.00\n",
       "Intacct                         /ORGANIZATION/INTACCT                  61.80\n",
       "NetBase Solutions               /ORGANIZATION/NETBASE                  60.60\n",
       "Lotame                          /ORGANIZATION/LOTAME                   59.70"
      ]
     },
     "execution_count": 61,
     "metadata": {},
     "output_type": "execute_result"
    }
   ],
   "source": [
    "top2_company_investment1 = D1.loc[(D1.main_sector == 'Social, Finance, Analytics, Advertising')]\n",
    "top2_company_investment1 = top2_company_investment1.pivot_table(values = 'raised_amount_usd', index =['name','permalink'], aggfunc = 'sum').sort_values(by = 'raised_amount_usd',ascending = False)\n",
    "top2_company_investment1[:5]"
   ]
  },
  {
   "cell_type": "code",
   "execution_count": 62,
   "metadata": {},
   "outputs": [
    {
     "data": {
      "text/html": [
       "<div>\n",
       "<style scoped>\n",
       "    .dataframe tbody tr th:only-of-type {\n",
       "        vertical-align: middle;\n",
       "    }\n",
       "\n",
       "    .dataframe tbody tr th {\n",
       "        vertical-align: top;\n",
       "    }\n",
       "\n",
       "    .dataframe thead th {\n",
       "        text-align: right;\n",
       "    }\n",
       "</style>\n",
       "<table border=\"1\" class=\"dataframe\">\n",
       "  <thead>\n",
       "    <tr style=\"text-align: right;\">\n",
       "      <th></th>\n",
       "      <th></th>\n",
       "      <th>raised_amount_usd</th>\n",
       "    </tr>\n",
       "    <tr>\n",
       "      <th>name</th>\n",
       "      <th>permalink</th>\n",
       "      <th></th>\n",
       "    </tr>\n",
       "  </thead>\n",
       "  <tbody>\n",
       "    <tr>\n",
       "      <th>Celltick Technologies</th>\n",
       "      <th>/ORGANIZATION/CELLTICK-TECHNOLOGIES</th>\n",
       "      <td>37.50</td>\n",
       "    </tr>\n",
       "    <tr>\n",
       "      <th>myThings</th>\n",
       "      <th>/ORGANIZATION/MYTHINGS</th>\n",
       "      <td>34.00</td>\n",
       "    </tr>\n",
       "    <tr>\n",
       "      <th>Zopa</th>\n",
       "      <th>/ORGANIZATION/ZOPA</th>\n",
       "      <td>32.90</td>\n",
       "    </tr>\n",
       "    <tr>\n",
       "      <th>VisualDNA</th>\n",
       "      <th>/ORGANIZATION/IMAGINI</th>\n",
       "      <td>28.55</td>\n",
       "    </tr>\n",
       "    <tr>\n",
       "      <th>MarketInvoice</th>\n",
       "      <th>/ORGANIZATION/MARKETINVOICE</th>\n",
       "      <td>25.55</td>\n",
       "    </tr>\n",
       "  </tbody>\n",
       "</table>\n",
       "</div>"
      ],
      "text/plain": [
       "                                                           raised_amount_usd\n",
       "name                  permalink                                             \n",
       "Celltick Technologies /ORGANIZATION/CELLTICK-TECHNOLOGIES              37.50\n",
       "myThings              /ORGANIZATION/MYTHINGS                           34.00\n",
       "Zopa                  /ORGANIZATION/ZOPA                               32.90\n",
       "VisualDNA             /ORGANIZATION/IMAGINI                            28.55\n",
       "MarketInvoice         /ORGANIZATION/MARKETINVOICE                      25.55"
      ]
     },
     "execution_count": 62,
     "metadata": {},
     "output_type": "execute_result"
    }
   ],
   "source": [
    "top2_company_investment2 = D2.loc[(D2.main_sector == 'Social, Finance, Analytics, Advertising')]\n",
    "top2_company_investment2 = top2_company_investment2.pivot_table(values = 'raised_amount_usd', index =['name','permalink'], aggfunc = 'sum').sort_values(by = 'raised_amount_usd',ascending = False)\n",
    "top2_company_investment2[:5]"
   ]
  },
  {
   "cell_type": "code",
   "execution_count": 63,
   "metadata": {},
   "outputs": [
    {
     "data": {
      "text/html": [
       "<div>\n",
       "<style scoped>\n",
       "    .dataframe tbody tr th:only-of-type {\n",
       "        vertical-align: middle;\n",
       "    }\n",
       "\n",
       "    .dataframe tbody tr th {\n",
       "        vertical-align: top;\n",
       "    }\n",
       "\n",
       "    .dataframe thead th {\n",
       "        text-align: right;\n",
       "    }\n",
       "</style>\n",
       "<table border=\"1\" class=\"dataframe\">\n",
       "  <thead>\n",
       "    <tr style=\"text-align: right;\">\n",
       "      <th></th>\n",
       "      <th></th>\n",
       "      <th>raised_amount_usd</th>\n",
       "    </tr>\n",
       "    <tr>\n",
       "      <th>name</th>\n",
       "      <th>permalink</th>\n",
       "      <th></th>\n",
       "    </tr>\n",
       "  </thead>\n",
       "  <tbody>\n",
       "    <tr>\n",
       "      <th>Manthan Systems</th>\n",
       "      <th>/ORGANIZATION/MANTHAN-SYSTEMS</th>\n",
       "      <td>50.70</td>\n",
       "    </tr>\n",
       "    <tr>\n",
       "      <th>Komli Media</th>\n",
       "      <th>/ORGANIZATION/KOMLI-MEDIA</th>\n",
       "      <td>28.00</td>\n",
       "    </tr>\n",
       "    <tr>\n",
       "      <th>ShopClues.com</th>\n",
       "      <th>/ORGANIZATION/SHOPCLUES-COM</th>\n",
       "      <td>25.00</td>\n",
       "    </tr>\n",
       "    <tr>\n",
       "      <th>inTarvo</th>\n",
       "      <th>/ORGANIZATION/INTARVO</th>\n",
       "      <td>21.90</td>\n",
       "    </tr>\n",
       "    <tr>\n",
       "      <th>Grameen Financial Services</th>\n",
       "      <th>/ORGANIZATION/GRAMEEN-FINANCIAL-SERVICES</th>\n",
       "      <td>21.56</td>\n",
       "    </tr>\n",
       "  </tbody>\n",
       "</table>\n",
       "</div>"
      ],
      "text/plain": [
       "                                                                     raised_amount_usd\n",
       "name                       permalink                                                  \n",
       "Manthan Systems            /ORGANIZATION/MANTHAN-SYSTEMS                         50.70\n",
       "Komli Media                /ORGANIZATION/KOMLI-MEDIA                             28.00\n",
       "ShopClues.com              /ORGANIZATION/SHOPCLUES-COM                           25.00\n",
       "inTarvo                    /ORGANIZATION/INTARVO                                 21.90\n",
       "Grameen Financial Services /ORGANIZATION/GRAMEEN-FINANCIAL-SERVICES              21.56"
      ]
     },
     "execution_count": 63,
     "metadata": {},
     "output_type": "execute_result"
    }
   ],
   "source": [
    "top2_company_investment3 = D3.loc[(D3.main_sector == 'Social, Finance, Analytics, Advertising')]\n",
    "top2_company_investment3 = top2_company_investment3.pivot_table(values = 'raised_amount_usd', index =['name','permalink'], aggfunc = 'sum').sort_values(by = 'raised_amount_usd',ascending = False)\n",
    "top2_company_investment3[:5]"
   ]
  },
  {
   "cell_type": "code",
   "execution_count": 64,
   "metadata": {},
   "outputs": [],
   "source": [
    "master_frame.to_csv('master_frame_csv',sep = '\\t',encoding = 'utf-8',index= False)"
   ]
  },
  {
   "cell_type": "code",
   "execution_count": null,
   "metadata": {},
   "outputs": [],
   "source": []
  }
 ],
 "metadata": {
  "kernelspec": {
   "display_name": "Python 3",
   "language": "python",
   "name": "python3"
  },
  "language_info": {
   "codemirror_mode": {
    "name": "ipython",
    "version": 3
   },
   "file_extension": ".py",
   "mimetype": "text/x-python",
   "name": "python",
   "nbconvert_exporter": "python",
   "pygments_lexer": "ipython3",
   "version": "3.7.0"
  }
 },
 "nbformat": 4,
 "nbformat_minor": 2
}
